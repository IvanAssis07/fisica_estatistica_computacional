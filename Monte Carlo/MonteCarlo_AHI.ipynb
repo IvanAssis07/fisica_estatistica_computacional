{
 "cells": [
  {
   "cell_type": "code",
   "execution_count": 1,
   "metadata": {
    "collapsed": true
   },
   "outputs": [],
   "source": [
    "import scipy as sp\n",
    "import numpy as np\n",
    "import matplotlib.pyplot as plt"
   ]
  },
  {
   "cell_type": "markdown",
   "metadata": {},
   "source": [
    "## Definições das Funções"
   ]
  },
  {
   "cell_type": "code",
   "execution_count": 2,
   "metadata": {
    "collapsed": true
   },
   "outputs": [],
   "source": [
    "def MonteCarlo1(a, b, ymax, n, N, fun):\n",
    "    lado1 = b-a\n",
    "    lado2 = ymax\n",
    "    lista = []\n",
    "    for i in range(N):\n",
    "        cont = 0\n",
    "        for j in range(n):\n",
    "            x = np.random.rand(1)[0]*b\n",
    "            y = np.random.rand(1)[0]*ymax\n",
    "    \n",
    "            if y < fun(x):\n",
    "                cont +=1\n",
    "        lista.append(lado1*lado2*cont/n)\n",
    "    \n",
    "    err = np.std(lista)/np.sqrt(N)\n",
    "    plt.hist(lista)\n",
    "    resp = sum(lista)/N\n",
    "    plt.axvline(resp, color='r', linewidth=1)\n",
    "    plt.title(\"N Total: \" + str(n))\n",
    "    plt.show()\n",
    "    print(\"Valor da integral = \" + str(resp))\n",
    "    print(\"Erro padrão = \" + str(err))"
   ]
  },
  {
   "cell_type": "code",
   "execution_count": 3,
   "metadata": {
    "collapsed": true
   },
   "outputs": [],
   "source": [
    "def MonteCarlo2(a, b, n, N, fun):\n",
    "    lista = []\n",
    "    for i in range(N):\n",
    "        somatorio = 0\n",
    "        for j in range(n):\n",
    "            x = np.random.rand(1)[0]*b\n",
    "            somatorio += fun(x)\n",
    "        lista.append(((b-a)/n)*somatorio)\n",
    "    \n",
    "    err = np.std(lista)/np.sqrt(N)\n",
    "    plt.hist(lista)\n",
    "    resp = sum(lista)/N\n",
    "    plt.axvline(resp, color='r', linewidth=1)\n",
    "    plt.title(\"N Total: \" + str(n))\n",
    "    plt.show()\n",
    "    print(\"Valor da integral = \" + str(resp))\n",
    "    print(\"Erro padrão = \" + str(err))"
   ]
  },
  {
   "cell_type": "markdown",
   "metadata": {},
   "source": [
    "## Exercício 1"
   ]
  },
  {
   "cell_type": "code",
   "execution_count": 4,
   "metadata": {},
   "outputs": [
    {
     "data": {
      "image/png": "[encoded data removed]",
      "text/plain": [
       "<Figure size 432x288 with 1 Axes>"
      ]
     },
     "metadata": {},
     "output_type": "display_data"
    },
    {
     "name": "stdout",
     "output_type": "stream",
     "text": [
      "Valor da integral = 0.6670599999999989\n",
      "Erro padrão = 0.001474569903395563\n"
     ]
    },
    {
     "data": {
      "image/png": "[encoded data removed]",
      "text/plain": [
       "<Figure size 432x288 with 1 Axes>"
      ]
     },
     "metadata": {},
     "output_type": "display_data"
    },
    {
     "name": "stdout",
     "output_type": "stream",
     "text": [
      "Valor da integral = 0.6663969999999991\n",
      "Erro padrão = 0.0004665741002241766\n"
     ]
    },
    {
     "data": {
      "image/png": "[encoded data removed]",
      "text/plain": [
       "<Figure size 432x288 with 1 Axes>"
      ]
     },
     "metadata": {},
     "output_type": "display_data"
    },
    {
     "name": "stdout",
     "output_type": "stream",
     "text": [
      "Valor da integral = 0.6666947000000004\n",
      "Erro padrão = 0.00015175757612060107\n"
     ]
    }
   ],
   "source": [
    "#Metodo 1\n",
    "\n",
    "def fun1(x):\n",
    "    return 1-x*x\n",
    "\n",
    "MonteCarlo1(0,1,1,100,1000, fun1)\n",
    "MonteCarlo1(0,1,1,1000,1000, fun1)\n",
    "MonteCarlo1(0,1,1,10000,1000, fun1)"
   ]
  },
  {
   "cell_type": "code",
   "execution_count": null,
   "metadata": {},
   "outputs": [
    {
     "data": {
      "image/png": "[encoded data removed]",
      "text/plain": [
       "<Figure size 432x288 with 1 Axes>"
      ]
     },
     "metadata": {},
     "output_type": "display_data"
    },
    {
     "name": "stdout",
     "output_type": "stream",
     "text": [
      "Valor da integral = 0.6668530229146613\n",
      "Erro padrão = 0.0009533295257166079\n"
     ]
    },
    {
     "data": {
      "image/png": "[encoded data removed]",
      "text/plain": [
       "<Figure size 432x288 with 1 Axes>"
      ]
     },
     "metadata": {},
     "output_type": "display_data"
    },
    {
     "name": "stdout",
     "output_type": "stream",
     "text": [
      "Valor da integral = 0.6671265148123234\n",
      "Erro padrão = 0.0002861463475726758\n"
     ]
    },
    {
     "data": {
      "image/png": "[encoded data removed]",
      "text/plain": [
       "<Figure size 432x288 with 1 Axes>"
      ]
     },
     "metadata": {},
     "output_type": "display_data"
    },
    {
     "name": "stdout",
     "output_type": "stream",
     "text": [
      "Valor da integral = 0.6666942817556624\n",
      "Erro padrão = 9.334915872372411e-05\n"
     ]
    }
   ],
   "source": [
    "#Metodo 2\n",
    "\n",
    "MonteCarlo2(0,1,100,1000, fun1)\n",
    "MonteCarlo2(0,1,1000,1000, fun1)\n",
    "MonteCarlo2(0,1,10000,1000, fun1)"
   ]
  },
  {
   "cell_type": "markdown",
   "metadata": {},
   "source": [
    "## Exercício 2"
   ]
  },
  {
   "cell_type": "code",
   "execution_count": null,
   "metadata": {},
   "outputs": [
    {
     "data": {
      "image/png": "[encoded data removed]",
      "text/plain": [
       "<Figure size 432x288 with 1 Axes>"
      ]
     },
     "metadata": {},
     "output_type": "display_data"
    },
    {
     "name": "stdout",
     "output_type": "stream",
     "text": [
      "Valor da integral = 1.7228742056956294\n",
      "Erro padrão = 0.004154601795996676\n"
     ]
    },
    {
     "data": {
      "image/png": "[encoded data removed]",
      "text/plain": [
       "<Figure size 432x288 with 1 Axes>"
      ]
     },
     "metadata": {},
     "output_type": "display_data"
    },
    {
     "name": "stdout",
     "output_type": "stream",
     "text": [
      "Valor da integral = 1.7201042765124286\n",
      "Erro padrão = 0.0012867535345594265\n"
     ]
    }
   ],
   "source": [
    "#Metodo 1\n",
    "\n",
    "def fun2(x):\n",
    "    return np.exp(x)\n",
    "\n",
    "MonteCarlo1(0,1,np.e,100,1000, fun2)\n",
    "MonteCarlo1(0,1,np.e,1000,1000, fun2)\n",
    "MonteCarlo1(0,1,np.e,10000,1000, fun2)"
   ]
  },
  {
   "cell_type": "code",
   "execution_count": null,
   "metadata": {},
   "outputs": [],
   "source": [
    "#Metodo 2\n",
    "\n",
    "MonteCarlo2(0,1,100,1000, fun2)\n",
    "MonteCarlo2(0,1,1000,1000, fun2)\n",
    "MonteCarlo2(0,1,10000,1000, fun2)"
   ]
  },
  {
   "cell_type": "markdown",
   "metadata": {},
   "source": [
    "## Exercício 3"
   ]
  },
  {
   "cell_type": "code",
   "execution_count": null,
   "metadata": {},
   "outputs": [],
   "source": [
    "#Metodo 1\n",
    "\n",
    "def fun3(x):\n",
    "    return np.sin(x)**2\n",
    "\n",
    "MonteCarlo1(0,np.pi,1,100,1000, fun3)\n",
    "MonteCarlo1(0,np.pi,1,1000,1000, fun3)\n",
    "MonteCarlo1(0,np.pi,1,10000,1000, fun3)"
   ]
  },
  {
   "cell_type": "code",
   "execution_count": null,
   "metadata": {},
   "outputs": [],
   "source": [
    "#Metodo 2\n",
    "\n",
    "MonteCarlo2(0,np.pi,100,1000, fun3)\n",
    "MonteCarlo2(0,np.pi,1000,1000, fun3)\n",
    "MonteCarlo2(0,np.pi,10000,1000, fun3)"
   ]
  },
  {
   "cell_type": "markdown",
   "metadata": {},
   "source": [
    "## Exercício 4"
   ]
  },
  {
   "cell_type": "code",
   "execution_count": null,
   "metadata": {
    "collapsed": true
   },
   "outputs": [],
   "source": [
    "def MonteCarlo2_XD(a, b, n, N, fun, D):\n",
    "    lista = []\n",
    "    for i in range(N):\n",
    "        somatorio = 0\n",
    "        for j in range(n):\n",
    "            rList = np.random.rand(D)*b\n",
    "            somatorio += fun(rList)\n",
    "        lista.append(((b-a)/n)*somatorio)\n",
    "    \n",
    "    err = np.std(lista)/N\n",
    "    print(err)\n",
    "    plt.hist(lista)\n",
    "    resp = sum(lista)/N\n",
    "    plt.axvline(resp, color='r', linewidth=1)\n",
    "    plt.title(\"N Total: \" + str(n))\n",
    "    plt.show()\n",
    "    print(\"Valor da integral = \" + str(resp))"
   ]
  },
  {
   "cell_type": "code",
   "execution_count": null,
   "metadata": {
    "collapsed": true
   },
   "outputs": [],
   "source": [
    "# Metodo 2\n",
    "def fun4(l):\n",
    "    x = (l[0]+l[1])*l[2]\n",
    "    y = (l[3]+l[4])*l[5]\n",
    "    z = (l[6]+l[7])*l[8]\n",
    "    return 1/(x+y+z)\n"
   ]
  },
  {
   "cell_type": "code",
   "execution_count": null,
   "metadata": {},
   "outputs": [],
   "source": [
    "MonteCarlo2_XD(0,1,10,1000,fun4,9)\n",
    "MonteCarlo2_XD(0,1,100,1000,fun4,9)\n",
    "MonteCarlo2_XD(0,1,1000,1000,fun4,9)\n",
    "MonteCarlo2_XD(0,1,10000,1000,fun4,9)"
   ]
  }
 ],
 "metadata": {
  "kernelspec": {
   "display_name": "Python 3",
   "language": "python",
   "name": "python3"
  },
  "language_info": {
   "codemirror_mode": {
    "name": "ipython",
    "version": 3
   },
   "file_extension": ".py",
   "mimetype": "text/x-python",
   "name": "python",
   "nbconvert_exporter": "python",
   "pygments_lexer": "ipython3",
   "version": "3.6.8"
  }
 },
 "nbformat": 4,
 "nbformat_minor": 2
}
