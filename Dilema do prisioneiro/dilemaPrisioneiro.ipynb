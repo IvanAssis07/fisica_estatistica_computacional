{
 "cells": [
  {
   "attachments": {},
   "cell_type": "markdown",
   "metadata": {},
   "source": [
    "**Caio Teles Cunha 2020006434** \n",
    "\n",
    "**Ivan Vilaça de Assis 2021421931**"
   ]
  },
  {
   "cell_type": "code",
   "execution_count": 2,
   "metadata": {},
   "outputs": [],
   "source": [
    "import numpy as np\n",
    "import matplotlib.pyplot as plt"
   ]
  },
  {
   "cell_type": "code",
   "execution_count": 3,
   "metadata": {},
   "outputs": [],
   "source": [
    "# Direita, Cima, Esquerda, Baixo\n",
    "def vizinhos(N):\n",
    "  L=int(np.sqrt(N))\n",
    "  viz = np.zeros((N,4),dtype=np.int16)\n",
    "  for k in range(N):\n",
    "    viz[k,0]=k+1\n",
    "    if (k+1) % L == 0: \n",
    "      viz[k,0] = k+1-L\n",
    "    viz[k,1] = k+L\n",
    "    if k > (N-L-1): \n",
    "      viz[k,1] = k+L-N\n",
    "    viz[k,2] = k-1\n",
    "    if (k % L == 0): \n",
    "      viz[k,2] = k+L-1\n",
    "    viz[k,3] = k-L\n",
    "    if k < L: \n",
    "      viz[k,3] = k+N-L\n",
    "  return viz"
   ]
  },
  {
   "cell_type": "code",
   "execution_count": 4,
   "metadata": {},
   "outputs": [],
   "source": [
    "def calculaDensidade(L, Nmcs, b, k):\n",
    "  # Gerando estado inicial\n",
    "  N = L ** 2\n",
    "  viz = vizinhos(N)\n",
    "  populacao = np.random.choice(['C', 'D'], N, replace=True)\n",
    "\n",
    "  for i in range(Nmcs):\n",
    "    indRnd = np.random.randint(N)\n",
    "\n",
    "    cooperadoresX = 0\n",
    "    for i in viz[indRnd]:\n",
    "      if(populacao[i] == 'C'):\n",
    "        cooperadoresX += 1\n",
    "        \n",
    "    if(populacao[indRnd] == 'D'):\n",
    "      Ex = cooperadoresX * b\n",
    "    else:\n",
    "      Ex = cooperadoresX + 1\n",
    "    \n",
    "    vizRnd = np.random.randint(4)\n",
    "    vizInx = viz[indRnd][vizRnd]\n",
    "\n",
    "    cooperadoresY = 0\n",
    "    for i in viz[vizInx]:\n",
    "      if(populacao[i] == 'C'):\n",
    "        cooperadoresY += 1\n",
    "\n",
    "    if(populacao[vizInx] == 'D'):\n",
    "      Ey = cooperadoresY * b\n",
    "    else:\n",
    "      Ey = cooperadoresY + 1\n",
    "\n",
    "    prob = np.random.random()\n",
    "    w = 1 / (1 + np.exp(-(Ey - Ex) / k))\n",
    "    if(w > prob):\n",
    "      populacao[indRnd] = populacao[vizInx]\n",
    "\n",
    "  return populacao"
   ]
  },
  {
   "cell_type": "code",
   "execution_count": 5,
   "metadata": {},
   "outputs": [],
   "source": [
    "def plotDensidadePorValoresDeB(cList, bValues, Nmcs, K):  \n",
    "  plt.title('Desidade de cooperadores depois de {} iterações \\n e com k = {}'.format(Nmcs,K))\n",
    "  plt.xlabel('b - Tentação à deserção')\n",
    "  plt.ylabel('densidade de cooperadores')\n",
    "  plt.plot(bValues, cList)\n",
    "  plt.show()"
   ]
  },
  {
   "cell_type": "code",
   "execution_count": 6,
   "metadata": {},
   "outputs": [],
   "source": [
    "def calcularDensidadesVariosBs(L, Nmcs, num_b, K):\n",
    "  N = L ** 2\n",
    "  bValues = np.linspace(1, 2, num_b)\n",
    "  cList = np.zeros(num_b)\n",
    "\n",
    "  for i in range(0, num_b):\n",
    "    pop = calculaDensidade(L, Nmcs, bValues[i], K)\n",
    "    NumCooperadores = np.count_nonzero(pop == 'C')\n",
    "    c = NumCooperadores / N\n",
    "    cList[i] = c\n",
    "  \n",
    "  plotDensidadePorValoresDeB(cList, bValues, Nmcs, K)"
   ]
  },
  {
   "cell_type": "code",
   "execution_count": 8,
   "metadata": {},
   "outputs": [
    {
     "data": {
      "image/png": "[encoded data removed]",
      "text/plain": [
       "<Figure size 432x288 with 1 Axes>"
      ]
     },
     "metadata": {
      "needs_background": "light"
     },
     "output_type": "display_data"
    }
   ],
   "source": [
    "L = 200\n",
    "Nmcs = 5_000_000\n",
    "num_b = 50\n",
    "K = 0.15\n",
    "calcularDensidadesVariosBs(L, Nmcs, num_b, K)"
   ]
  },
  {
   "attachments": {},
   "cell_type": "markdown",
   "metadata": {},
   "source": [
    "Nós escolhemos um **K = 0.15** e encontramos para _b1_ um valor aproximado de _1.1_ e para _b2_ um valor aproximado de _1.9_"
   ]
  }
 ],
 "metadata": {
  "kernelspec": {
   "display_name": "Python 3",
   "language": "python",
   "name": "python3"
  },
  "language_info": {
   "codemirror_mode": {
    "name": "ipython",
    "version": 3
   },
   "file_extension": ".py",
   "mimetype": "text/x-python",
   "name": "python",
   "nbconvert_exporter": "python",
   "pygments_lexer": "ipython3",
   "version": "3.8.10"
  },
  "orig_nbformat": 4
 },
 "nbformat": 4,
 "nbformat_minor": 2
}
